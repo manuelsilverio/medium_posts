{
 "cells": [
  {
   "cell_type": "markdown",
   "metadata": {},
   "source": [
    "# This is a heading 1\n",
    "## This is  a heading 2\n",
    "### This is a heading 3\n",
    "#### This is a heading 4\n",
    "\n",
    "* This is a list item\n",
    "* This is another list item\n",
    "* This is the last list item\n",
    "\n",
    "And here we have some regular text"
   ]
  },
  {
   "cell_type": "markdown",
   "metadata": {},
   "source": [
    "# This is a heading 1\n",
    "## This is  a heading 2\n",
    "### This is a heading 3\n",
    "#### This is a heading 4\n",
    "\n",
    "* This is a list item\n",
    "* This is another list item\n",
    "* This is the last list item\n",
    "\n",
    "And here we have some regular text"
   ]
  },
  {
   "cell_type": "code",
   "execution_count": null,
   "metadata": {},
   "outputs": [],
   "source": []
  },
  {
   "cell_type": "markdown",
   "metadata": {},
   "source": [
    "## Main keys in Jupyter\n",
    "\n",
    "* To exit edit mode: -esc-\n",
    "* To enter edit mode: -enter-\n",
    "* To change cell type from text to python code: -m-\n",
    "* To run cell: -shift + enter-\n",
    "\n",
    "#### after pressing -esc- and out of edit mode  you can:\n",
    "* To add cell above: -a-\n",
    "* To add cell below: -b-\n",
    "* To delete cell: press -d- twice\n",
    "* Use up and down arrows to move up and down from cell to cell"
   ]
  }
 ],
 "metadata": {
  "kernelspec": {
   "display_name": "Python 3",
   "language": "python",
   "name": "python3"
  },
  "language_info": {
   "codemirror_mode": {
    "name": "ipython",
    "version": 3
   },
   "file_extension": ".py",
   "mimetype": "text/x-python",
   "name": "python",
   "nbconvert_exporter": "python",
   "pygments_lexer": "ipython3",
   "version": "3.8.5"
  }
 },
 "nbformat": 4,
 "nbformat_minor": 4
}
